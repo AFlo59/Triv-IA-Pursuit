{
 "cells": [
  {
   "cell_type": "code",
   "execution_count": 2,
   "metadata": {},
   "outputs": [
    {
     "name": "stdout",
     "output_type": "stream",
     "text": [
      "🧡🟦🟨🟪💚🟥🟦🟨💜\n",
      "🟩🟥󠁛󠁛󠁛⬛󠁛󠁛󠁛⬛🟪󠁛󠁛󠁛⬛󠁛󠁛󠁛⬛🟦🟨\n",
      "🟪󠁛󠁛󠁛⬛🟥󠁛󠁛󠁛⬛🟨󠁛󠁛󠁛⬛🟩󠁛󠁛󠁛⬛🟦\n",
      "🟨󠁛󠁛󠁛⬛󠁛󠁛󠁛⬛🟥🟦🟨󠁛󠁛󠁛⬛󠁛󠁛󠁛⬛🟥\n",
      "🟦🟨🟪🟩🟥🟦🟨🟪🟩\n",
      "🟥󠁛󠁛󠁛⬛󠁛󠁛󠁛⬛🟪🟩🟥󠁛󠁛󠁛⬛󠁛󠁛󠁛⬛🟪\n",
      "🟩󠁛󠁛󠁛⬛🟦󠁛󠁛󠁛⬛🟪󠁛󠁛󠁛⬛🟥󠁛󠁛󠁛⬛🟨\n",
      "🟪🟩󠁛󠁛󠁛⬛󠁛󠁛󠁛⬛🟨󠁛󠁛󠁛⬛󠁛󠁛󠁛⬛🟥🟦\n",
      "💛🟪🟩🟥💙🟨🟪🟩🍓\n",
      "\n"
     ]
    }
   ],
   "source": [
    "#   x   x   x   x   x   x   x   x   x\n",
    "#   x   x           x           x   x\n",
    "#   x       x       x       x       x\n",
    "#   x           x   x   x           x\n",
    "#   x   x   x   x   x   x   x   x   x\n",
    "#   x           x   x   x           x\n",
    "#   x       x       x       x       x\n",
    "#   x   x           x           x   x\n",
    "#   x   x   x   x   x   x   x   x   x\n",
    "\n",
    "from model.Case import TYPE_CASE, Case\n",
    "\n",
    "ROWS = 9\n",
    "COLS = 9\n",
    "\n",
    "themes = [('🟥', 1), ('🟦', 2), ('🟨', 3), ('🟪', 4), ('🟩', 5), ('🟧', 6)]\n",
    "camemberts = [('🍓', 1), ('💙', 2), ('💛', 3), ('💜', 4), ('💚', 5), ('🧡', 6)]\n",
    "cases = []   \n",
    "\n",
    "def setup():\n",
    "    i = 0\n",
    "    for row in range(ROWS):\n",
    "        rowItems = []\n",
    "        if i == len(themes) - 1:\n",
    "            i = 0\n",
    "            \n",
    "        for col in range(COLS):\n",
    "            if ((col == row == 0) or\n",
    "                (col == COLS // 2 and row == 0) or\n",
    "                (col == COLS - 1 and row == 0) or  \n",
    "                \n",
    "                (row == ROWS - 1 and col == 0) or\n",
    "                (row == ROWS - 1 and col == COLS // 2) or\n",
    "                (row == ROWS - 1 and col == COLS - 1)):\n",
    "                    item = camemberts.pop()\n",
    "                    c = Case(position=(col, row), type_case=TYPE_CASE['theme'], theme=item[1], graf=item[0])\n",
    "                    rowItems.append(c)\n",
    "            elif col == 0: # Première colonne\n",
    "                rowItems.append(Case((col, row), TYPE_CASE['theme'], themes[i][1], themes[i][0]))\n",
    "            elif row == 0 or row == ROWS // 2: # Première ligne et ligne du milieu\n",
    "                rowItems.append(Case((col, row), TYPE_CASE['theme'], themes[i][1], themes[i][0]))\n",
    "            elif row == ROWS - 1: # Dernière ligne\n",
    "                rowItems.append(Case((col, row), TYPE_CASE['theme'], themes[i][1], themes[i][0]))\n",
    "            elif col == COLS - 1 or col == COLS // 2: # Dernière colonne et colonne du milieu\n",
    "                rowItems.append(Case((col, row), TYPE_CASE['theme'], themes[i][1], themes[i][0]))\n",
    "            elif col == row or (col + row) + 1 == ROWS: # Diagonales\n",
    "                rowItems.append(Case((col, row), TYPE_CASE['theme'], themes[i][1], themes[i][0]))\n",
    "            else:\n",
    "                rowItems.append(Case((col, row), TYPE_CASE['null'])) \n",
    "                \n",
    "            i += 1\n",
    "            if i == len(themes) - 1:\n",
    "                i = 0\n",
    "                \n",
    "        cases.append(rowItems)\n",
    "        \n",
    "    # for row_idx in range(len(cases) - 1):\n",
    "    #     for col_idx in range(len(row) - 1):\n",
    "    #         if col_idx > 0 and row_idx > 0:\n",
    "                \n",
    "            \n",
    "def find_walkable_cases(position, walkable_cases = [], next_position = (0, 1)):\n",
    "    row = cases[position[next_position[0]]]\n",
    "    col = cases[position[next_position[1]]]\n",
    "    next_case = next_position if next_position is not None else cases[row][col]\n",
    "    if next_case.theme < 4:\n",
    "        walkable_cases.append(next_case)\n",
    "    \n",
    "    find_walkable_cases(position, walkable_cases, )\n",
    "\n",
    "def render():\n",
    "    setup()\n",
    "    graf = ''\n",
    "    for row in cases:\n",
    "        for item in row:\n",
    "            graf = f'{graf}{item.graf}'\n",
    "        graf = f'{graf}\\r\\n'\n",
    "    \n",
    "    print(graf)    \n",
    "render()"
   ]
  },
  {
   "cell_type": "code",
   "execution_count": 1,
   "metadata": {},
   "outputs": [
    {
     "name": "stdout",
     "output_type": "stream",
     "text": [
      "🧡🟦🟨🟪💚🟥🟦🟨💜\n",
      "🟩🟥󠁛󠁛󠁛⬛󠁛󠁛󠁛⬛🟪󠁛󠁛󠁛⬛󠁛󠁛󠁛⬛🟦🟨\n",
      "🟪󠁛󠁛󠁛⬛🟥󠁛󠁛󠁛⬛🟨󠁛󠁛󠁛⬛🟩󠁛󠁛󠁛⬛🟦\n",
      "🟨󠁛󠁛󠁛⬛󠁛󠁛󠁛⬛🟥🟦🟨󠁛󠁛󠁛⬛󠁛󠁛󠁛⬛🟥\n",
      "🟦🟨🟪🟩🟥🟦🟨🟪🟩\n",
      "🟥󠁛󠁛󠁛⬛󠁛󠁛󠁛⬛🟪🟩🟥󠁛󠁛󠁛⬛󠁛󠁛󠁛⬛🟪\n",
      "🟩󠁛󠁛󠁛⬛🟦󠁛󠁛󠁛⬛🟪󠁛󠁛󠁛⬛🟥󠁛󠁛󠁛⬛🟨\n",
      "🟪🟩󠁛󠁛󠁛⬛󠁛󠁛󠁛⬛🟨󠁛󠁛󠁛⬛󠁛󠁛󠁛⬛🟥🟦\n",
      "💛🟪🟩🟥💙🟨🟪🟩🍓\n",
      "\n"
     ]
    },
    {
     "name": "stdout",
     "output_type": "stream",
     "text": [
      "move (0, 0) 3\n",
      "Comment définir une fonction lambda (anonyme) qui prend deux arguments et renvoie leur somme en Python ?\n",
      "A. A) lambda x, y: x * y\n",
      "B. B) lambda x, y: x / y\n",
      "C. C) lambda x, y: x - y\n",
      "D. D) lambda x, y: x + y\n",
      "Mauvaise réponse. La bonne réponse est D.\n",
      "move (0, 0) 6\n",
      "Comment écrire une boucle for qui itère sur les éléments d'une liste tout en suivant l'index de chaque élément ?\n",
      "A. A) for element in enumerate(my_list):\n",
      "B. B) for i, element in my_list:\n",
      "C. C) for i, element in enumerate(my_list):\n",
      "D. D) for element in my_list.index():\n",
      "Mauvaise réponse. La bonne réponse est C.\n",
      "\u001b[H\u001b[2J\" e\t\t0\n",
      "l e\t\t0\n",
      "\n",
      "Joueur en cours: \" e\t\t0\n",
      "move (0, 0) 4\n",
      "Quelle est la méthode pour convertir une chaîne de caractères en majuscules en Python ?\n",
      "A. A) capitalize()\n",
      "B. B) upper()\n",
      "C. C) big()\n",
      "D. D) uppercase()\n",
      "Mauvaise réponse. La bonne réponse est B.\n"
     ]
    },
    {
     "ename": "AttributeError",
     "evalue": "type object 'Joueur' has no attribute 'score'",
     "output_type": "error",
     "traceback": [
      "\u001b[0;31m---------------------------------------------------------------------------\u001b[0m",
      "\u001b[0;31mAttributeError\u001b[0m                            Traceback (most recent call last)",
      "Cell \u001b[0;32mIn[1], line 5\u001b[0m\n\u001b[1;32m      2\u001b[0m \u001b[38;5;28;01mfrom\u001b[39;00m \u001b[38;5;21;01mmodel\u001b[39;00m\u001b[38;5;21;01m.\u001b[39;00m\u001b[38;5;21;01mJoueur\u001b[39;00m \u001b[38;5;28;01mimport\u001b[39;00m Joueur\n\u001b[1;32m      3\u001b[0m \u001b[38;5;28;01mfrom\u001b[39;00m \u001b[38;5;21;01mmodel\u001b[39;00m\u001b[38;5;21;01m.\u001b[39;00m\u001b[38;5;21;01mPartie\u001b[39;00m \u001b[38;5;28;01mimport\u001b[39;00m Partie\n\u001b[0;32m----> 5\u001b[0m partie \u001b[38;5;241m=\u001b[39m \u001b[43mPartie\u001b[49m\u001b[43m(\u001b[49m\u001b[43m)\u001b[49m\n\u001b[1;32m      6\u001b[0m joueur \u001b[38;5;241m=\u001b[39m Joueur(nom\u001b[38;5;241m=\u001b[39m\u001b[38;5;124m'\u001b[39m\u001b[38;5;124mnom\u001b[39m\u001b[38;5;124m'\u001b[39m, prenom\u001b[38;5;241m=\u001b[39m\u001b[38;5;124m'\u001b[39m\u001b[38;5;124mprenom\u001b[39m\u001b[38;5;124m'\u001b[39m, partie\u001b[38;5;241m=\u001b[39mpartie)\n\u001b[1;32m      7\u001b[0m joueur\u001b[38;5;241m.\u001b[39mplay()\n",
      "File \u001b[0;32m~/Documents/Projets/Triv-IA-Pursuit/model/Partie.py:11\u001b[0m, in \u001b[0;36mPartie.__init__\u001b[0;34m(self)\u001b[0m\n\u001b[1;32m      9\u001b[0m \u001b[38;5;28mself\u001b[39m\u001b[38;5;241m.\u001b[39mcurrent_joueur \u001b[38;5;241m=\u001b[39m \u001b[38;5;28;01mNone\u001b[39;00m\n\u001b[1;32m     10\u001b[0m \u001b[38;5;28mself\u001b[39m\u001b[38;5;241m.\u001b[39mplateau \u001b[38;5;241m=\u001b[39m Plateau()\n\u001b[0;32m---> 11\u001b[0m \u001b[38;5;28;43mself\u001b[39;49m\u001b[38;5;241;43m.\u001b[39;49m\u001b[43mrun\u001b[49m\u001b[43m(\u001b[49m\u001b[43m)\u001b[49m\n",
      "File \u001b[0;32m~/Documents/Projets/Triv-IA-Pursuit/model/Partie.py:16\u001b[0m, in \u001b[0;36mPartie.run\u001b[0;34m(self)\u001b[0m\n\u001b[1;32m     14\u001b[0m \u001b[38;5;28mself\u001b[39m\u001b[38;5;241m.\u001b[39mlist_joueur \u001b[38;5;241m=\u001b[39m []\n\u001b[1;32m     15\u001b[0m \u001b[38;5;28;01mif\u001b[39;00m \u001b[38;5;28mself\u001b[39m\u001b[38;5;241m.\u001b[39minscription():\n\u001b[0;32m---> 16\u001b[0m     \u001b[38;5;28;43mself\u001b[39;49m\u001b[38;5;241;43m.\u001b[39;49m\u001b[43mstart\u001b[49m\u001b[43m(\u001b[49m\u001b[43m)\u001b[49m\n",
      "File \u001b[0;32m~/Documents/Projets/Triv-IA-Pursuit/model/Partie.py:46\u001b[0m, in \u001b[0;36mPartie.start\u001b[0;34m(self)\u001b[0m\n\u001b[1;32m     43\u001b[0m \u001b[38;5;28mself\u001b[39m\u001b[38;5;241m.\u001b[39mcurrent_joueur \u001b[38;5;241m=\u001b[39m \u001b[38;5;28mself\u001b[39m\u001b[38;5;241m.\u001b[39mlist_joueur[de(\u001b[38;5;241m0\u001b[39m, \u001b[38;5;28mlen\u001b[39m(\u001b[38;5;28mself\u001b[39m\u001b[38;5;241m.\u001b[39mlist_joueur) \u001b[38;5;241m-\u001b[39m \u001b[38;5;241m1\u001b[39m)]\n\u001b[1;32m     45\u001b[0m \u001b[38;5;28mself\u001b[39m\u001b[38;5;241m.\u001b[39mdashboard()\n\u001b[0;32m---> 46\u001b[0m \u001b[38;5;28;43mself\u001b[39;49m\u001b[38;5;241;43m.\u001b[39;49m\u001b[43mplay\u001b[49m\u001b[43m(\u001b[49m\u001b[43m)\u001b[49m\n",
      "File \u001b[0;32m~/Documents/Projets/Triv-IA-Pursuit/model/Partie.py:51\u001b[0m, in \u001b[0;36mPartie.play\u001b[0;34m(self)\u001b[0m\n\u001b[1;32m     49\u001b[0m \u001b[38;5;28;01mif\u001b[39;00m \u001b[38;5;28mself\u001b[39m\u001b[38;5;241m.\u001b[39mcurrent_joueur:\n\u001b[1;32m     50\u001b[0m     \u001b[38;5;28mself\u001b[39m\u001b[38;5;241m.\u001b[39mcurrent_joueur\u001b[38;5;241m.\u001b[39mplay()\n\u001b[0;32m---> 51\u001b[0m \u001b[38;5;28;01mif\u001b[39;00m \u001b[43mJoueur\u001b[49m\u001b[38;5;241;43m.\u001b[39;49m\u001b[43mscore\u001b[49m \u001b[38;5;241m>\u001b[39m \u001b[38;5;241m6\u001b[39m:\n\u001b[1;32m     52\u001b[0m     \u001b[38;5;28;01mpass\u001b[39;00m\n",
      "\u001b[0;31mAttributeError\u001b[0m: type object 'Joueur' has no attribute 'score'"
     ]
    }
   ],
   "source": [
    "from model.Case import Case\n",
    "from model.Joueur import Joueur\n",
    "from model.Partie import Partie\n",
    "\n",
    "partie = Partie()\n",
    "joueur = Joueur(nom='nom', prenom='prenom', partie=partie)\n",
    "joueur.play()"
   ]
  }
 ],
 "metadata": {
  "kernelspec": {
   "display_name": ".venv",
   "language": "python",
   "name": "python3"
  },
  "language_info": {
   "codemirror_mode": {
    "name": "ipython",
    "version": 3
   },
   "file_extension": ".py",
   "mimetype": "text/x-python",
   "name": "python",
   "nbconvert_exporter": "python",
   "pygments_lexer": "ipython3",
   "version": "3.10.12"
  }
 },
 "nbformat": 4,
 "nbformat_minor": 2
}
