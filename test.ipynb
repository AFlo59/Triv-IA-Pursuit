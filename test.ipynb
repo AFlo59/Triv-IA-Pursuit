{
 "cells": [
  {
   "cell_type": "code",
   "execution_count": 1,
   "metadata": {},
   "outputs": [
    {
     "name": "stdout",
     "output_type": "stream",
     "text": [
      "['x', 'x', 'x', 'x', 'x', 'x', 'x', 'x', 'x']\n",
      "['x', 'x', ' ', ' ', 'x', ' ', ' ', 'x', 'x']\n",
      "['x', ' ', 'x', ' ', 'x', ' ', 'x', ' ', 'x']\n",
      "['x', ' ', ' ', 'x', 'x', 'x', ' ', ' ', 'x']\n",
      "['x', 'x', 'x', 'x', 'x', 'x', 'x', 'x', 'x']\n",
      "['x', ' ', ' ', 'x', 'x', 'x', ' ', ' ', 'x']\n",
      "['x', ' ', 'x', ' ', 'x', ' ', 'x', ' ', 'x']\n",
      "['x', 'x', ' ', ' ', 'x', ' ', ' ', 'x', 'x']\n",
      "['x', 'x', 'x', 'x', 'x', 'x', 'x', 'x', 'x']\n"
     ]
    }
   ],
   "source": [
    "#   x   x   x   x   x   x   x   x   x\n",
    "#   x   x           x           x   x\n",
    "#   x       x       x       x       x\n",
    "#   x           x   x   x           x\n",
    "#   x   x   x   x   x   x   x   x   x\n",
    "#   x           x   x   x           x\n",
    "#   x       x       x       x       x\n",
    "#   x   x           x           x   x\n",
    "#   x   x   x   x   x   x   x   x   x\n",
    "\n",
    "ROWS = 9\n",
    "COLS = 9\n",
    "\n",
    "cases = []\n",
    "for row in range(ROWS):\n",
    "    rowItems = []\n",
    "    for col in range(COLS):\n",
    "        if col == 0: # Première colonne\n",
    "            rowItems.append('x')\n",
    "        elif row == 0 or row == ROWS // 2: # Première ligne et ligne du milieu\n",
    "            rowItems.append('x')\n",
    "        elif row == ROWS - 1: # Dernière ligne\n",
    "            rowItems.append('x')\n",
    "        elif col == COLS - 1 or col == COLS // 2: # Dernière colonne et colonne du milieu\n",
    "            rowItems.append('x')\n",
    "        elif col == row or (col + row) + 1 == ROWS: # Diagonales\n",
    "            rowItems.append('x')\n",
    "        else:\n",
    "            rowItems.append(' ') \n",
    "    cases.append(rowItems)\n",
    "\n",
    "for row in range(ROWS):      \n",
    "    print(cases[row])"
   ]
  },
  {
   "cell_type": "code",
   "execution_count": 1,
   "metadata": {},
   "outputs": [
    {
     "name": "stdout",
     "output_type": "stream",
     "text": [
      "SELECT texte_question, bonne_reponse, choix1, choix2, choix3, choix4 FROM questions ORDER BY RANDOM() LIMIT 1\n",
      "Quelle est la différence entre les méthodes remove() et pop() pour une liste en Python ?\n",
      "SELECT texte_question, bonne_reponse, choix1, choix2, choix3, choix4 FROM questions ORDER BY RANDOM() LIMIT 1\n",
      "Comment supprimer un fichier dans le terminal ?\n"
     ]
    },
    {
     "ename": "TypeError",
     "evalue": "'NoneType' object is not subscriptable",
     "output_type": "error",
     "traceback": [
      "\u001b[0;31m---------------------------------------------------------------------------\u001b[0m",
      "\u001b[0;31mTypeError\u001b[0m                                 Traceback (most recent call last)",
      "Cell \u001b[0;32mIn[1], line 9\u001b[0m\n\u001b[1;32m      7\u001b[0m case \u001b[38;5;241m=\u001b[39m Case()\n\u001b[1;32m      8\u001b[0m question \u001b[38;5;241m=\u001b[39m case\u001b[38;5;241m.\u001b[39mget_question()\n\u001b[0;32m----> 9\u001b[0m reponse \u001b[38;5;241m=\u001b[39m \u001b[43mjoueur\u001b[49m\u001b[38;5;241;43m.\u001b[39;49m\u001b[43mreponse_question\u001b[49m\u001b[43m(\u001b[49m\u001b[43m)\u001b[49m\n",
      "File \u001b[0;32m~/Documents/Projets/Triv-IA-Pursuit/model/Joueur.py:32\u001b[0m, in \u001b[0;36mJoueur.reponse_question\u001b[0;34m(self)\u001b[0m\n\u001b[1;32m     30\u001b[0m \u001b[38;5;28mself\u001b[39m\u001b[38;5;241m.\u001b[39mcase \u001b[38;5;241m=\u001b[39m Case()\n\u001b[1;32m     31\u001b[0m question_data \u001b[38;5;241m=\u001b[39m \u001b[38;5;28mself\u001b[39m\u001b[38;5;241m.\u001b[39mcase\u001b[38;5;241m.\u001b[39mget_question()\n\u001b[0;32m---> 32\u001b[0m choices \u001b[38;5;241m=\u001b[39m \u001b[43mquestion_data\u001b[49m\u001b[43m[\u001b[49m\u001b[38;5;241;43m2\u001b[39;49m\u001b[43m:\u001b[49m\u001b[38;5;241;43m6\u001b[39;49m\u001b[43m]\u001b[49m\n\u001b[1;32m     33\u001b[0m correct_answer \u001b[38;5;241m=\u001b[39m question_data[\u001b[38;5;241m1\u001b[39m]\n\u001b[1;32m     34\u001b[0m \u001b[38;5;28;01mfor\u001b[39;00m i, choice \u001b[38;5;129;01min\u001b[39;00m \u001b[38;5;28menumerate\u001b[39m(choices, start\u001b[38;5;241m=\u001b[39m\u001b[38;5;241m65\u001b[39m):\n",
      "\u001b[0;31mTypeError\u001b[0m: 'NoneType' object is not subscriptable"
     ]
    }
   ],
   "source": [
    "from model.Case import Case\n",
    "from model.Joueur import Joueur\n",
    "\n",
    "\n",
    "joueur = Joueur(nom='aa', prenom='aa')\n",
    "    \n",
    "case = Case()\n",
    "question = case.get_question()\n",
    "reponse = joueur.reponse_question()"
   ]
  }
 ],
 "metadata": {
  "kernelspec": {
   "display_name": ".venv",
   "language": "python",
   "name": "python3"
  },
  "language_info": {
   "codemirror_mode": {
    "name": "ipython",
    "version": 3
   },
   "file_extension": ".py",
   "mimetype": "text/x-python",
   "name": "python",
   "nbconvert_exporter": "python",
   "pygments_lexer": "ipython3",
   "version": "3.10.12"
  }
 },
 "nbformat": 4,
 "nbformat_minor": 2
}
