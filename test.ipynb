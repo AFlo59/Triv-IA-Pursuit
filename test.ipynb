{
 "cells": [
  {
   "cell_type": "code",
   "execution_count": 1,
   "metadata": {},
   "outputs": [
    {
     "ename": "OperationalError",
     "evalue": "near \"6\": syntax error",
     "output_type": "error",
     "traceback": [
      "\u001b[0;31m---------------------------------------------------------------------------\u001b[0m",
      "\u001b[0;31mOperationalError\u001b[0m                          Traceback (most recent call last)",
      "Cell \u001b[0;32mIn[1], line 80\u001b[0m\n\u001b[1;32m     77\u001b[0m         graf \u001b[38;5;241m=\u001b[39m \u001b[38;5;124mf\u001b[39m\u001b[38;5;124m'\u001b[39m\u001b[38;5;132;01m{\u001b[39;00mgraf\u001b[38;5;132;01m}\u001b[39;00m\u001b[38;5;130;01m\\r\u001b[39;00m\u001b[38;5;130;01m\\n\u001b[39;00m\u001b[38;5;124m'\u001b[39m\n\u001b[1;32m     79\u001b[0m     \u001b[38;5;28mprint\u001b[39m(graf)    \n\u001b[0;32m---> 80\u001b[0m \u001b[43mrender\u001b[49m\u001b[43m(\u001b[49m\u001b[43m)\u001b[49m\n",
      "Cell \u001b[0;32mIn[1], line 72\u001b[0m, in \u001b[0;36mrender\u001b[0;34m()\u001b[0m\n\u001b[1;32m     71\u001b[0m \u001b[38;5;28;01mdef\u001b[39;00m \u001b[38;5;21mrender\u001b[39m():\n\u001b[0;32m---> 72\u001b[0m     \u001b[43msetup\u001b[49m\u001b[43m(\u001b[49m\u001b[43m)\u001b[49m\n\u001b[1;32m     73\u001b[0m     graf \u001b[38;5;241m=\u001b[39m \u001b[38;5;124m'\u001b[39m\u001b[38;5;124m'\u001b[39m\n\u001b[1;32m     74\u001b[0m     \u001b[38;5;28;01mfor\u001b[39;00m row \u001b[38;5;129;01min\u001b[39;00m cases:\n",
      "Cell \u001b[0;32mIn[1], line 36\u001b[0m, in \u001b[0;36msetup\u001b[0;34m()\u001b[0m\n\u001b[1;32m     28\u001b[0m \u001b[38;5;28;01mif\u001b[39;00m ((col \u001b[38;5;241m==\u001b[39m row \u001b[38;5;241m==\u001b[39m \u001b[38;5;241m0\u001b[39m) \u001b[38;5;129;01mor\u001b[39;00m\n\u001b[1;32m     29\u001b[0m     (col \u001b[38;5;241m==\u001b[39m COLS \u001b[38;5;241m/\u001b[39m\u001b[38;5;241m/\u001b[39m \u001b[38;5;241m2\u001b[39m \u001b[38;5;129;01mand\u001b[39;00m row \u001b[38;5;241m==\u001b[39m \u001b[38;5;241m0\u001b[39m) \u001b[38;5;129;01mor\u001b[39;00m\n\u001b[1;32m     30\u001b[0m     (col \u001b[38;5;241m==\u001b[39m COLS \u001b[38;5;241m-\u001b[39m \u001b[38;5;241m1\u001b[39m \u001b[38;5;129;01mand\u001b[39;00m row \u001b[38;5;241m==\u001b[39m \u001b[38;5;241m0\u001b[39m) \u001b[38;5;129;01mor\u001b[39;00m  \n\u001b[0;32m   (...)\u001b[0m\n\u001b[1;32m     33\u001b[0m     (row \u001b[38;5;241m==\u001b[39m ROWS \u001b[38;5;241m-\u001b[39m \u001b[38;5;241m1\u001b[39m \u001b[38;5;129;01mand\u001b[39;00m col \u001b[38;5;241m==\u001b[39m COLS \u001b[38;5;241m/\u001b[39m\u001b[38;5;241m/\u001b[39m \u001b[38;5;241m2\u001b[39m) \u001b[38;5;129;01mor\u001b[39;00m\n\u001b[1;32m     34\u001b[0m     (row \u001b[38;5;241m==\u001b[39m ROWS \u001b[38;5;241m-\u001b[39m \u001b[38;5;241m1\u001b[39m \u001b[38;5;129;01mand\u001b[39;00m col \u001b[38;5;241m==\u001b[39m COLS \u001b[38;5;241m-\u001b[39m \u001b[38;5;241m1\u001b[39m)):\n\u001b[1;32m     35\u001b[0m         item \u001b[38;5;241m=\u001b[39m camemberts\u001b[38;5;241m.\u001b[39mpop()\n\u001b[0;32m---> 36\u001b[0m         c \u001b[38;5;241m=\u001b[39m \u001b[43mCase\u001b[49m\u001b[43m(\u001b[49m\u001b[43mposition\u001b[49m\u001b[38;5;241;43m=\u001b[39;49m\u001b[43m(\u001b[49m\u001b[43mcol\u001b[49m\u001b[43m,\u001b[49m\u001b[43m \u001b[49m\u001b[43mrow\u001b[49m\u001b[43m)\u001b[49m\u001b[43m,\u001b[49m\u001b[43m \u001b[49m\u001b[43mtype_case\u001b[49m\u001b[38;5;241;43m=\u001b[39;49m\u001b[43mTYPE_CASE\u001b[49m\u001b[43m[\u001b[49m\u001b[38;5;124;43m'\u001b[39;49m\u001b[38;5;124;43mtheme\u001b[39;49m\u001b[38;5;124;43m'\u001b[39;49m\u001b[43m]\u001b[49m\u001b[43m,\u001b[49m\u001b[43m \u001b[49m\u001b[43mtheme\u001b[49m\u001b[38;5;241;43m=\u001b[39;49m\u001b[43mitem\u001b[49m\u001b[43m[\u001b[49m\u001b[38;5;241;43m1\u001b[39;49m\u001b[43m]\u001b[49m\u001b[43m,\u001b[49m\u001b[43m \u001b[49m\u001b[43mgraf\u001b[49m\u001b[38;5;241;43m=\u001b[39;49m\u001b[43mitem\u001b[49m\u001b[43m[\u001b[49m\u001b[38;5;241;43m0\u001b[39;49m\u001b[43m]\u001b[49m\u001b[43m)\u001b[49m\n\u001b[1;32m     37\u001b[0m         rowItems\u001b[38;5;241m.\u001b[39mappend(c)\n\u001b[1;32m     38\u001b[0m \u001b[38;5;28;01melif\u001b[39;00m col \u001b[38;5;241m==\u001b[39m \u001b[38;5;241m0\u001b[39m: \u001b[38;5;66;03m# Première colonne\u001b[39;00m\n",
      "File \u001b[0;32m~/Documents/Projets/Triv-IA-Pursuit/model/Case.py:19\u001b[0m, in \u001b[0;36mCase.__init__\u001b[0;34m(self, position, type_case, theme, graf)\u001b[0m\n\u001b[1;32m     17\u001b[0m \u001b[38;5;28mself\u001b[39m\u001b[38;5;241m.\u001b[39mgraf \u001b[38;5;241m=\u001b[39m graf\n\u001b[1;32m     18\u001b[0m \u001b[38;5;28mself\u001b[39m\u001b[38;5;241m.\u001b[39mwalkable_cases \u001b[38;5;241m=\u001b[39m \u001b[38;5;28;01mNone\u001b[39;00m\n\u001b[0;32m---> 19\u001b[0m \u001b[38;5;28;43mself\u001b[39;49m\u001b[38;5;241;43m.\u001b[39;49m\u001b[43mget_question\u001b[49m\u001b[43m(\u001b[49m\u001b[43mtheme\u001b[49m\u001b[43m)\u001b[49m\n",
      "File \u001b[0;32m~/Documents/Projets/Triv-IA-Pursuit/model/Case.py:24\u001b[0m, in \u001b[0;36mCase.get_question\u001b[0;34m(self, questions_id)\u001b[0m\n\u001b[1;32m     21\u001b[0m \u001b[38;5;28;01mdef\u001b[39;00m \u001b[38;5;21mget_question\u001b[39m(\u001b[38;5;28mself\u001b[39m, questions_id):\n\u001b[1;32m     22\u001b[0m     \u001b[38;5;66;03m# TODO get_question\u001b[39;00m\n\u001b[1;32m     23\u001b[0m     \u001b[38;5;28mself\u001b[39m\u001b[38;5;241m.\u001b[39mtable \u001b[38;5;241m=\u001b[39m ConnectBdd()\n\u001b[0;32m---> 24\u001b[0m     question_data \u001b[38;5;241m=\u001b[39m \u001b[38;5;28;43mself\u001b[39;49m\u001b[38;5;241;43m.\u001b[39;49m\u001b[43mtable\u001b[49m\u001b[38;5;241;43m.\u001b[39;49m\u001b[43mrandom_question\u001b[49m\u001b[43m(\u001b[49m\u001b[38;5;124;43mf\u001b[39;49m\u001b[38;5;124;43m\"\u001b[39;49m\u001b[38;5;124;43mSELECT * FROM questions WHERE theme_id = \u001b[39;49m\u001b[38;5;132;43;01m{\u001b[39;49;00m\u001b[38;5;28;43mself\u001b[39;49m\u001b[38;5;241;43m.\u001b[39;49m\u001b[43mtheme\u001b[49m\u001b[38;5;132;43;01m}\u001b[39;49;00m\u001b[38;5;124;43m AND questions_id NOT IN \u001b[39;49m\u001b[38;5;132;43;01m{\u001b[39;49;00m\u001b[43mquestions_id\u001b[49m\u001b[38;5;132;43;01m}\u001b[39;49;00m\u001b[38;5;124;43m ORDER BY RANDOM() LIMIT 1\u001b[39;49m\u001b[38;5;124;43m\"\u001b[39;49m\u001b[43m)\u001b[49m\n\u001b[1;32m     25\u001b[0m     \u001b[38;5;28mself\u001b[39m\u001b[38;5;241m.\u001b[39mtheme \u001b[38;5;241m=\u001b[39m question_data[\u001b[38;5;241m7\u001b[39m]\n\u001b[1;32m     26\u001b[0m     \u001b[38;5;28;01mreturn\u001b[39;00m question_data\n",
      "File \u001b[0;32m~/Documents/Projets/Triv-IA-Pursuit/connectbdd.py:21\u001b[0m, in \u001b[0;36mConnectBdd.random_question\u001b[0;34m(self, sql)\u001b[0m\n\u001b[1;32m     19\u001b[0m \u001b[38;5;28;01mdef\u001b[39;00m \u001b[38;5;21mrandom_question\u001b[39m(\u001b[38;5;28mself\u001b[39m, sql):\n\u001b[1;32m     20\u001b[0m     \u001b[38;5;28mself\u001b[39m\u001b[38;5;241m.\u001b[39mcur \u001b[38;5;241m=\u001b[39m \u001b[38;5;28mself\u001b[39m\u001b[38;5;241m.\u001b[39mcon\u001b[38;5;241m.\u001b[39mcursor()\n\u001b[0;32m---> 21\u001b[0m     \u001b[38;5;28;43mself\u001b[39;49m\u001b[38;5;241;43m.\u001b[39;49m\u001b[43mcur\u001b[49m\u001b[38;5;241;43m.\u001b[39;49m\u001b[43mexecute\u001b[49m\u001b[43m(\u001b[49m\u001b[43msql\u001b[49m\u001b[43m)\u001b[49m\n\u001b[1;32m     22\u001b[0m     \u001b[38;5;28;01mreturn\u001b[39;00m \u001b[38;5;28mself\u001b[39m\u001b[38;5;241m.\u001b[39mcur\u001b[38;5;241m.\u001b[39mfetchone()\n",
      "\u001b[0;31mOperationalError\u001b[0m: near \"6\": syntax error"
     ]
    }
   ],
   "source": [
    "#   x   x   x   x   x   x   x   x   x\n",
    "#   x   x           x           x   x\n",
    "#   x       x       x       x       x\n",
    "#   x           x   x   x           x\n",
    "#   x   x   x   x   x   x   x   x   x\n",
    "#   x           x   x   x           x\n",
    "#   x       x       x       x       x\n",
    "#   x   x           x           x   x\n",
    "#   x   x   x   x   x   x   x   x   x\n",
    "\n",
    "from model.Case import TYPE_CASE, Case\n",
    "\n",
    "ROWS = 9\n",
    "COLS = 9\n",
    "\n",
    "themes = [('🟥', 1), ('🟦', 2), ('🟨', 3), ('🟪', 4), ('🟩', 5), ('🟧', 6)]\n",
    "camemberts = [('🍓', 1), ('💙', 2), ('💛', 3), ('💜', 4), ('💚', 5), ('🧡', 6)]\n",
    "cases = []   \n",
    "\n",
    "def setup():\n",
    "    i = 0\n",
    "    for row in range(ROWS):\n",
    "        rowItems = []\n",
    "        if i == len(themes) - 1:\n",
    "            i = 0\n",
    "            \n",
    "        for col in range(COLS):\n",
    "            if ((col == row == 0) or\n",
    "                (col == COLS // 2 and row == 0) or\n",
    "                (col == COLS - 1 and row == 0) or  \n",
    "                \n",
    "                (row == ROWS - 1 and col == 0) or\n",
    "                (row == ROWS - 1 and col == COLS // 2) or\n",
    "                (row == ROWS - 1 and col == COLS - 1)):\n",
    "                    item = camemberts.pop()\n",
    "                    c = Case(position=(col, row), type_case=TYPE_CASE['theme'], theme=item[1], graf=item[0])\n",
    "                    rowItems.append(c)\n",
    "            elif col == 0: # Première colonne\n",
    "                rowItems.append(Case((col, row), TYPE_CASE['theme'], themes[i][1], themes[i][0]))\n",
    "            elif row == 0 or row == ROWS // 2: # Première ligne et ligne du milieu\n",
    "                rowItems.append(Case((col, row), TYPE_CASE['theme'], themes[i][1], themes[i][0]))\n",
    "            elif row == ROWS - 1: # Dernière ligne\n",
    "                rowItems.append(Case((col, row), TYPE_CASE['theme'], themes[i][1], themes[i][0]))\n",
    "            elif col == COLS - 1 or col == COLS // 2: # Dernière colonne et colonne du milieu\n",
    "                rowItems.append(Case((col, row), TYPE_CASE['theme'], themes[i][1], themes[i][0]))\n",
    "            elif col == row or (col + row) + 1 == ROWS: # Diagonales\n",
    "                rowItems.append(Case((col, row), TYPE_CASE['theme'], themes[i][1], themes[i][0]))\n",
    "            else:\n",
    "                rowItems.append(Case((col, row), TYPE_CASE['null'])) \n",
    "                \n",
    "            i += 1\n",
    "            if i == len(themes) - 1:\n",
    "                i = 0\n",
    "                \n",
    "        cases.append(rowItems)\n",
    "        \n",
    "    # for row_idx in range(len(cases) - 1):\n",
    "    #     for col_idx in range(len(row) - 1):\n",
    "    #         if col_idx > 0 and row_idx > 0:\n",
    "                \n",
    "            \n",
    "def find_walkable_cases(position, walkable_cases = [], next_position = (0, 1)):\n",
    "    row = cases[position[next_position[0]]]\n",
    "    col = cases[position[next_position[1]]]\n",
    "    next_case = next_position if next_position is not None else cases[row][col]\n",
    "    if next_case.theme < 4:\n",
    "        walkable_cases.append(next_case)\n",
    "    \n",
    "    find_walkable_cases(position, walkable_cases, )\n",
    "\n",
    "def render():\n",
    "    setup()\n",
    "    graf = ''\n",
    "    for row in cases:\n",
    "        for item in row:\n",
    "            graf = f'{graf}{item.graf}'\n",
    "        graf = f'{graf}\\r\\n'\n",
    "    \n",
    "    print(graf)    \n",
    "render()"
   ]
  },
  {
   "cell_type": "code",
   "execution_count": 2,
   "metadata": {},
   "outputs": [
    {
     "name": "stdout",
     "output_type": "stream",
     "text": [
      "🟦🟨🟪🟥🟦🟨\n",
      "🟩🟥󠁛󠁛󠁛⬛󠁛󠁛󠁛⬛🟪󠁛󠁛󠁛⬛󠁛󠁛󠁛⬛🟦🟨\n",
      "🟪󠁛󠁛󠁛⬛🟥󠁛󠁛󠁛⬛🟨󠁛󠁛󠁛⬛🟩󠁛󠁛󠁛⬛🟦\n",
      "🟨󠁛󠁛󠁛⬛󠁛󠁛󠁛⬛🟥🟦🟨󠁛󠁛󠁛⬛󠁛󠁛󠁛⬛🟥\n",
      "🟦🟨🟪🟩🟥🟦🟨🟪🟩\n",
      "🟥󠁛󠁛󠁛⬛󠁛󠁛󠁛⬛🟪🟩🟥󠁛󠁛󠁛⬛󠁛󠁛󠁛⬛🟪\n",
      "🟩󠁛󠁛󠁛⬛🟦󠁛󠁛󠁛⬛🟪󠁛󠁛󠁛⬛🟥󠁛󠁛󠁛⬛🟨\n",
      "🟪🟩󠁛󠁛󠁛⬛󠁛󠁛󠁛⬛🟨󠁛󠁛󠁛⬛󠁛󠁛󠁛⬛🟥🟦\n",
      "🟪🟩🟥🟨🟪🟩\n",
      "\n"
     ]
    },
    {
     "ename": "TypeError",
     "evalue": "Case.__init__() missing 1 required positional argument: 'position'",
     "output_type": "error",
     "traceback": [
      "\u001b[0;31m---------------------------------------------------------------------------\u001b[0m",
      "\u001b[0;31mTypeError\u001b[0m                                 Traceback (most recent call last)",
      "Cell \u001b[0;32mIn[2], line 5\u001b[0m\n\u001b[1;32m      2\u001b[0m \u001b[38;5;28;01mfrom\u001b[39;00m \u001b[38;5;21;01mmodel\u001b[39;00m\u001b[38;5;21;01m.\u001b[39;00m\u001b[38;5;21;01mJoueur\u001b[39;00m \u001b[38;5;28;01mimport\u001b[39;00m Joueur\n\u001b[1;32m      3\u001b[0m \u001b[38;5;28;01mfrom\u001b[39;00m \u001b[38;5;21;01mmodel\u001b[39;00m\u001b[38;5;21;01m.\u001b[39;00m\u001b[38;5;21;01mPartie\u001b[39;00m \u001b[38;5;28;01mimport\u001b[39;00m Partie\n\u001b[0;32m----> 5\u001b[0m partie \u001b[38;5;241m=\u001b[39m \u001b[43mPartie\u001b[49m\u001b[43m(\u001b[49m\u001b[43m)\u001b[49m\n\u001b[1;32m      6\u001b[0m joueur \u001b[38;5;241m=\u001b[39m Joueur(nom\u001b[38;5;241m=\u001b[39m\u001b[38;5;124m'\u001b[39m\u001b[38;5;124maa\u001b[39m\u001b[38;5;124m'\u001b[39m, prenom\u001b[38;5;241m=\u001b[39m\u001b[38;5;124m'\u001b[39m\u001b[38;5;124maa\u001b[39m\u001b[38;5;124m'\u001b[39m, partie\u001b[38;5;241m=\u001b[39mpartie)\n\u001b[1;32m      7\u001b[0m case \u001b[38;5;241m=\u001b[39m partie\u001b[38;5;241m.\u001b[39mplateau\u001b[38;5;241m.\u001b[39mcases[\u001b[38;5;241m0\u001b[39m,\u001b[38;5;241m0\u001b[39m]\n",
      "File \u001b[0;32m~/Documents/Projets/Triv-IA-Pursuit/model/Partie.py:11\u001b[0m, in \u001b[0;36mPartie.__init__\u001b[0;34m(self)\u001b[0m\n\u001b[1;32m      9\u001b[0m \u001b[38;5;28mself\u001b[39m\u001b[38;5;241m.\u001b[39mcurrent_joueur \u001b[38;5;241m=\u001b[39m \u001b[38;5;28;01mNone\u001b[39;00m\n\u001b[1;32m     10\u001b[0m \u001b[38;5;28mself\u001b[39m\u001b[38;5;241m.\u001b[39mplateau \u001b[38;5;241m=\u001b[39m Plateau()\n\u001b[0;32m---> 11\u001b[0m \u001b[38;5;28;43mself\u001b[39;49m\u001b[38;5;241;43m.\u001b[39;49m\u001b[43mrun\u001b[49m\u001b[43m(\u001b[49m\u001b[43m)\u001b[49m\n",
      "File \u001b[0;32m~/Documents/Projets/Triv-IA-Pursuit/model/Partie.py:15\u001b[0m, in \u001b[0;36mPartie.run\u001b[0;34m(self)\u001b[0m\n\u001b[1;32m     13\u001b[0m \u001b[38;5;28;01mdef\u001b[39;00m \u001b[38;5;21mrun\u001b[39m(\u001b[38;5;28mself\u001b[39m):\n\u001b[1;32m     14\u001b[0m     \u001b[38;5;28mself\u001b[39m\u001b[38;5;241m.\u001b[39mlist_joueur \u001b[38;5;241m=\u001b[39m []\n\u001b[0;32m---> 15\u001b[0m     \u001b[38;5;28;01mif\u001b[39;00m \u001b[38;5;28;43mself\u001b[39;49m\u001b[38;5;241;43m.\u001b[39;49m\u001b[43minscription\u001b[49m\u001b[43m(\u001b[49m\u001b[43m)\u001b[49m:\n\u001b[1;32m     16\u001b[0m         \u001b[38;5;28mself\u001b[39m\u001b[38;5;241m.\u001b[39mstart()\n",
      "File \u001b[0;32m~/Documents/Projets/Triv-IA-Pursuit/model/Partie.py:24\u001b[0m, in \u001b[0;36mPartie.inscription\u001b[0;34m(self)\u001b[0m\n\u001b[1;32m     21\u001b[0m nom \u001b[38;5;241m=\u001b[39m \u001b[38;5;28minput\u001b[39m(\u001b[38;5;124m'\u001b[39m\u001b[38;5;124mVotre nom :\u001b[39m\u001b[38;5;124m'\u001b[39m)\n\u001b[1;32m     22\u001b[0m prenom \u001b[38;5;241m=\u001b[39m \u001b[38;5;28minput\u001b[39m(\u001b[38;5;124m'\u001b[39m\u001b[38;5;124mVotre prenom :\u001b[39m\u001b[38;5;124m'\u001b[39m)\n\u001b[0;32m---> 24\u001b[0m joueur \u001b[38;5;241m=\u001b[39m \u001b[43mJoueur\u001b[49m\u001b[43m(\u001b[49m\u001b[43mpartie\u001b[49m\u001b[38;5;241;43m=\u001b[39;49m\u001b[38;5;28;43mself\u001b[39;49m\u001b[43m,\u001b[49m\u001b[43m \u001b[49m\u001b[43mnom\u001b[49m\u001b[38;5;241;43m=\u001b[39;49m\u001b[43mnom\u001b[49m\u001b[43m,\u001b[49m\u001b[43m \u001b[49m\u001b[43mprenom\u001b[49m\u001b[38;5;241;43m=\u001b[39;49m\u001b[43mprenom\u001b[49m\u001b[43m)\u001b[49m\n\u001b[1;32m     26\u001b[0m \u001b[38;5;28;01mif\u001b[39;00m joueur:\n\u001b[1;32m     27\u001b[0m     \u001b[38;5;28mself\u001b[39m\u001b[38;5;241m.\u001b[39mlist_joueur\u001b[38;5;241m.\u001b[39mappend(joueur)\n",
      "File \u001b[0;32m~/Documents/Projets/Triv-IA-Pursuit/model/Joueur.py:18\u001b[0m, in \u001b[0;36mJoueur.__init__\u001b[0;34m(self, nom, prenom, partie)\u001b[0m\n\u001b[1;32m     16\u001b[0m \u001b[38;5;28mself\u001b[39m\u001b[38;5;241m.\u001b[39mquestions_id \u001b[38;5;241m=\u001b[39m []\n\u001b[1;32m     17\u001b[0m \u001b[38;5;28mself\u001b[39m\u001b[38;5;241m.\u001b[39mtable \u001b[38;5;241m=\u001b[39m ConnectBdd()\n\u001b[0;32m---> 18\u001b[0m \u001b[38;5;28mself\u001b[39m\u001b[38;5;241m.\u001b[39mcase_question \u001b[38;5;241m=\u001b[39m \u001b[43mCase\u001b[49m\u001b[43m(\u001b[49m\u001b[43m)\u001b[49m\n\u001b[1;32m     19\u001b[0m \u001b[38;5;28mself\u001b[39m\u001b[38;5;241m.\u001b[39minsert_bdd()\n\u001b[1;32m     20\u001b[0m \u001b[38;5;28mself\u001b[39m\u001b[38;5;241m.\u001b[39mget_answer()\n",
      "\u001b[0;31mTypeError\u001b[0m: Case.__init__() missing 1 required positional argument: 'position'"
     ]
    }
   ],
   "source": [
    "from model.Case import Case\n",
    "from model.Joueur import Joueur\n",
    "from model.Partie import Partie\n",
    "\n",
    "partie = Partie()\n",
    "joueur = Joueur(nom='aa', prenom='aa', partie=partie)\n",
    "case = partie.plateau.cases[0,0]\n",
    "question = case.get_question()\n",
    "reponse = joueur.get_answer()"
   ]
  }
 ],
 "metadata": {
  "kernelspec": {
   "display_name": ".venv",
   "language": "python",
   "name": "python3"
  },
  "language_info": {
   "codemirror_mode": {
    "name": "ipython",
    "version": 3
   },
   "file_extension": ".py",
   "mimetype": "text/x-python",
   "name": "python",
   "nbconvert_exporter": "python",
   "pygments_lexer": "ipython3",
   "version": "3.10.12"
  }
 },
 "nbformat": 4,
 "nbformat_minor": 2
}
