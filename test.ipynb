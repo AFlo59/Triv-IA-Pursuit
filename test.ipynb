{
 "cells": [
  {
   "cell_type": "code",
   "execution_count": 5,
   "metadata": {},
   "outputs": [
    {
     "name": "stdout",
     "output_type": "stream",
     "text": [
      "['x', 'x', 'x', 'x', 'x', 'x', 'x', '', '', '', '', 'x', 'x', '', '', '', '', 'x', 'x', '', '', '', '', 'x', 'x', '', '', '', '', 'x', 'x', 'x', 'x', 'x', 'x', 'x']\n"
     ]
    }
   ],
   "source": [
    "ROWS = 6\n",
    "COLS = 6\n",
    "\n",
    "cases = []\n",
    "for col in range(COLS):\n",
    "    for row in range(ROWS):\n",
    "        if col == 0:\n",
    "            cases.append('x')\n",
    "        elif row == 0:\n",
    "            cases.append('x')\n",
    "        elif col == COLS - 1:\n",
    "            cases.append('x')\n",
    "        elif row == ROWS - 1:\n",
    "            cases.append('x')\n",
    "        else:\n",
    "            cases.append('')  \n",
    "            \n",
    "print(cases)"
   ]
  }
 ],
 "metadata": {
  "kernelspec": {
   "display_name": ".venv",
   "language": "python",
   "name": "python3"
  },
  "language_info": {
   "codemirror_mode": {
    "name": "ipython",
    "version": 3
   },
   "file_extension": ".py",
   "mimetype": "text/x-python",
   "name": "python",
   "nbconvert_exporter": "python",
   "pygments_lexer": "ipython3",
   "version": "3.11.2"
  }
 },
 "nbformat": 4,
 "nbformat_minor": 2
}
