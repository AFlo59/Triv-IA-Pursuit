{
 "cells": [
  {
   "cell_type": "code",
   "execution_count": 24,
   "metadata": {},
   "outputs": [
    {
     "name": "stdout",
     "output_type": "stream",
     "text": [
      "['x', 'x', 'x', 'x', 'x', 'x', 'x']\n",
      "['x', 'x', ' ', 'x', ' ', 'x', 'x']\n",
      "['x', ' ', 'x', 'x', 'x', ' ', 'x']\n",
      "['x', 'x', 'x', 'x', 'x', 'x', 'x']\n",
      "['x', ' ', 'x', 'x', 'x', ' ', 'x']\n",
      "['x', 'x', ' ', 'x', ' ', 'x', 'x']\n",
      "['x', 'x', 'x', 'x', 'x', 'x', 'x']\n"
     ]
    }
   ],
   "source": [
    "#   x   x   x   x   x   x   x   x   x\n",
    "#   x   x           x           x   x\n",
    "#   x       x       x       x       x\n",
    "#   x           x   x   x           x\n",
    "#   x   x   x   x   x   x   x   x   x\n",
    "#   x           x   x   x           x\n",
    "#   x       x       x       x       x\n",
    "#   x   x           x           x   x\n",
    "#   x   x   x   x   x   x   x   x   x\n",
    "\n",
    "ROWS = 9\n",
    "COLS = 9\n",
    "\n",
    "cases = []\n",
    "for row in range(ROWS):\n",
    "    rowItems = []\n",
    "    for col in range(COLS):\n",
    "        if col == 0: # Première colonne\n",
    "            rowItems.append('x')\n",
    "        elif row == 0 or row == ROWS // 2: # Première ligne et ligne du milieu\n",
    "            rowItems.append('x')\n",
    "        elif row == ROWS - 1: # Dernière ligne\n",
    "            rowItems.append('x')\n",
    "        elif col == COLS - 1 or col == COLS // 2: # Dernière colonne et colonne du milieu\n",
    "            rowItems.append('x')\n",
    "        elif col == row or (col + row) + 1 == ROWS: # Diagonales\n",
    "            rowItems.append('x')\n",
    "        else:\n",
    "            rowItems.append(' ') \n",
    "    cases.append(rowItems)\n",
    "\n",
    "for row in range(ROWS):      \n",
    "    print(cases[row])"
   ]
  },
  {
   "cell_type": "code",
   "execution_count": null,
   "metadata": {},
   "outputs": [],
   "source": [
    "from model.Case import Case\n",
    "from model.Joueur import Joueur\n",
    "\n",
    "\n",
    "joueur = Joueur(nom='aa', prenom='aa')\n",
    "    \n",
    "case = Case()\n",
    "question = case.question()\n",
    "reponse = joueur.reponse(question)"
   ]
  }
 ],
 "metadata": {
  "kernelspec": {
   "display_name": ".venv",
   "language": "python",
   "name": "python3"
  },
  "language_info": {
   "codemirror_mode": {
    "name": "ipython",
    "version": 3
   },
   "file_extension": ".py",
   "mimetype": "text/x-python",
   "name": "python",
   "nbconvert_exporter": "python",
   "pygments_lexer": "ipython3",
   "version": "3.11.2"
  }
 },
 "nbformat": 4,
 "nbformat_minor": 2
}
