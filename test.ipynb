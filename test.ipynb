{
 "cells": [
  {
   "cell_type": "code",
   "execution_count": 2,
   "metadata": {},
   "outputs": [
    {
     "name": "stdout",
     "output_type": "stream",
     "text": [
      "🧡🟦🟨🟪💚🟥🟦🟨💜\n",
      "🟩🟥󠁛󠁛󠁛⬛󠁛󠁛󠁛⬛🟪󠁛󠁛󠁛⬛󠁛󠁛󠁛⬛🟦🟨\n",
      "🟪󠁛󠁛󠁛⬛🟥󠁛󠁛󠁛⬛🟨󠁛󠁛󠁛⬛🟩󠁛󠁛󠁛⬛🟦\n",
      "🟨󠁛󠁛󠁛⬛󠁛󠁛󠁛⬛🟥🟦🟨󠁛󠁛󠁛⬛󠁛󠁛󠁛⬛🟥\n",
      "🟦🟨🟪🟩🟥🟦🟨🟪🟩\n",
      "🟥󠁛󠁛󠁛⬛󠁛󠁛󠁛⬛🟪🟩🟥󠁛󠁛󠁛⬛󠁛󠁛󠁛⬛🟪\n",
      "🟩󠁛󠁛󠁛⬛🟦󠁛󠁛󠁛⬛🟪󠁛󠁛󠁛⬛🟥󠁛󠁛󠁛⬛🟨\n",
      "🟪🟩󠁛󠁛󠁛⬛󠁛󠁛󠁛⬛🟨󠁛󠁛󠁛⬛󠁛󠁛󠁛⬛🟥🟦\n",
      "💛🟪🟩🟥💙🟨🟪🟩🍓\n",
      "\n"
     ]
    }
   ],
   "source": [
    "#   x   x   x   x   x   x   x   x   x\n",
    "#   x   x           x           x   x\n",
    "#   x       x       x       x       x\n",
    "#   x           x   x   x           x\n",
    "#   x   x   x   x   x   x   x   x   x\n",
    "#   x           x   x   x           x\n",
    "#   x       x       x       x       x\n",
    "#   x   x           x           x   x\n",
    "#   x   x   x   x   x   x   x   x   x\n",
    "\n",
    "from model.Case import TYPE_CASE, Case\n",
    "\n",
    "ROWS = 9\n",
    "COLS = 9\n",
    "\n",
    "themes = [('🟥', 1), ('🟦', 2), ('🟨', 3), ('🟪', 4), ('🟩', 5), ('🟧', 6)]\n",
    "camemberts = [('🍓', 1), ('💙', 2), ('💛', 3), ('💜', 4), ('💚', 5), ('🧡', 6)]\n",
    "cases = []   \n",
    "\n",
    "def setup():\n",
    "    i = 0\n",
    "    for row in range(ROWS):\n",
    "        rowItems = []\n",
    "        if i == len(themes) - 1:\n",
    "            i = 0\n",
    "            \n",
    "        for col in range(COLS):\n",
    "            if ((col == row == 0) or\n",
    "                (col == COLS // 2 and row == 0) or\n",
    "                (col == COLS - 1 and row == 0) or  \n",
    "                \n",
    "                (row == ROWS - 1 and col == 0) or\n",
    "                (row == ROWS - 1 and col == COLS // 2) or\n",
    "                (row == ROWS - 1 and col == COLS - 1)):\n",
    "                    item = camemberts.pop()\n",
    "                    c = Case(position=(col, row), type_case=TYPE_CASE['theme'], theme=item[1], graf=item[0])\n",
    "                    rowItems.append(c)\n",
    "            elif col == 0: # Première colonne\n",
    "                rowItems.append(Case((col, row), TYPE_CASE['theme'], themes[i][1], themes[i][0]))\n",
    "            elif row == 0 or row == ROWS // 2: # Première ligne et ligne du milieu\n",
    "                rowItems.append(Case((col, row), TYPE_CASE['theme'], themes[i][1], themes[i][0]))\n",
    "            elif row == ROWS - 1: # Dernière ligne\n",
    "                rowItems.append(Case((col, row), TYPE_CASE['theme'], themes[i][1], themes[i][0]))\n",
    "            elif col == COLS - 1 or col == COLS // 2: # Dernière colonne et colonne du milieu\n",
    "                rowItems.append(Case((col, row), TYPE_CASE['theme'], themes[i][1], themes[i][0]))\n",
    "            elif col == row or (col + row) + 1 == ROWS: # Diagonales\n",
    "                rowItems.append(Case((col, row), TYPE_CASE['theme'], themes[i][1], themes[i][0]))\n",
    "            else:\n",
    "                rowItems.append(Case((col, row), TYPE_CASE['null'])) \n",
    "                \n",
    "            i += 1\n",
    "            if i == len(themes) - 1:\n",
    "                i = 0\n",
    "                \n",
    "        cases.append(rowItems)\n",
    "        \n",
    "    # for row_idx in range(len(cases) - 1):\n",
    "    #     for col_idx in range(len(row) - 1):\n",
    "    #         if col_idx > 0 and row_idx > 0:\n",
    "                \n",
    "            \n",
    "def find_walkable_cases(position, walkable_cases = [], next_position = (0, 1)):\n",
    "    row = cases[position[next_position[0]]]\n",
    "    col = cases[position[next_position[1]]]\n",
    "    next_case = next_position if next_position is not None else cases[row][col]\n",
    "    if next_case.theme < 4:\n",
    "        walkable_cases.append(next_case)\n",
    "    \n",
    "    find_walkable_cases(position, walkable_cases, )\n",
    "\n",
    "def render():\n",
    "    setup()\n",
    "    graf = ''\n",
    "    for row in cases:\n",
    "        for item in row:\n",
    "            graf = f'{graf}{item.graf}'\n",
    "        graf = f'{graf}\\r\\n'\n",
    "    \n",
    "    print(graf)    \n",
    "render()"
   ]
  },
  {
   "cell_type": "code",
   "execution_count": 1,
   "metadata": {},
   "outputs": [
    {
     "name": "stdout",
     "output_type": "stream",
     "text": [
      "🧡🟦🟨🟪💚🟥🟦🟨💜\n",
      "🟩🟥󠁛󠁛󠁛⬛󠁛󠁛󠁛⬛🟪󠁛󠁛󠁛⬛󠁛󠁛󠁛⬛🟦🟨\n",
      "🟪󠁛󠁛󠁛⬛🟥󠁛󠁛󠁛⬛🟨󠁛󠁛󠁛⬛🟩󠁛󠁛󠁛⬛🟦\n",
      "🟨󠁛󠁛󠁛⬛󠁛󠁛󠁛⬛🟥🟦🟨󠁛󠁛󠁛⬛󠁛󠁛󠁛⬛🟥\n",
      "🟦🟨🟪🟩🟥🟦🟨🟪🟩\n",
      "🟥󠁛󠁛󠁛⬛󠁛󠁛󠁛⬛🟪🟩🟥󠁛󠁛󠁛⬛󠁛󠁛󠁛⬛🟪\n",
      "🟩󠁛󠁛󠁛⬛🟦󠁛󠁛󠁛⬛🟪󠁛󠁛󠁛⬛🟥󠁛󠁛󠁛⬛🟨\n",
      "🟪🟩󠁛󠁛󠁛⬛󠁛󠁛󠁛⬛🟨󠁛󠁛󠁛⬛󠁛󠁛󠁛⬛🟥🟦\n",
      "💛🟪🟩🟥💙🟨🟪🟩🍓\n",
      "\n",
      "s s\n",
      "\u001b[H\u001b[2Js s\t\t0\n",
      "\n",
      "Joueur en cours: s s\t\t0\n",
      "move (0, 0) 5\n",
      "Case: 0 2 None\n",
      "None\n",
      "nom prenom\n"
     ]
    },
    {
     "ename": "UnboundLocalError",
     "evalue": "local variable 'question_data' referenced before assignment",
     "output_type": "error",
     "traceback": [
      "\u001b[0;31m---------------------------------------------------------------------------\u001b[0m",
      "\u001b[0;31mUnboundLocalError\u001b[0m                         Traceback (most recent call last)",
      "Cell \u001b[0;32mIn[1], line 10\u001b[0m\n\u001b[1;32m      8\u001b[0m \u001b[38;5;66;03m# Utilisez la méthode get_question en passant les questions_id de l'instance du joueur\u001b[39;00m\n\u001b[1;32m      9\u001b[0m questions_id \u001b[38;5;241m=\u001b[39m joueur\u001b[38;5;241m.\u001b[39mquestions_id\n\u001b[0;32m---> 10\u001b[0m question \u001b[38;5;241m=\u001b[39m \u001b[43mcase\u001b[49m\u001b[38;5;241;43m.\u001b[39;49m\u001b[43mget_question\u001b[49m\u001b[43m(\u001b[49m\u001b[43mquestions_id\u001b[49m\u001b[43m)\u001b[49m\n\u001b[1;32m     11\u001b[0m reponse \u001b[38;5;241m=\u001b[39m joueur\u001b[38;5;241m.\u001b[39mget_answer()\n",
      "File \u001b[0;32m~/Documents/Projects/Triv-IA-Pursuit/model/Case.py:23\u001b[0m, in \u001b[0;36mCase.get_question\u001b[0;34m(self, questions_id)\u001b[0m\n\u001b[1;32m     21\u001b[0m \u001b[38;5;28;01mdef\u001b[39;00m \u001b[38;5;21mget_question\u001b[39m(\u001b[38;5;28mself\u001b[39m, questions_id):\n\u001b[1;32m     22\u001b[0m     theme_id \u001b[38;5;241m=\u001b[39m \u001b[38;5;28mself\u001b[39m\u001b[38;5;241m.\u001b[39mtheme  \u001b[38;5;66;03m# Sauvegardez le thème actuel de la case\u001b[39;00m\n\u001b[0;32m---> 23\u001b[0m     \u001b[38;5;28mself\u001b[39m\u001b[38;5;241m.\u001b[39mtheme \u001b[38;5;241m=\u001b[39m \u001b[43mquestion_data\u001b[49m[\u001b[38;5;241m7\u001b[39m]\n\u001b[1;32m     24\u001b[0m     question_data \u001b[38;5;241m=\u001b[39m \u001b[38;5;28mself\u001b[39m\u001b[38;5;241m.\u001b[39mtable\u001b[38;5;241m.\u001b[39mrandom_question(\n\u001b[1;32m     25\u001b[0m         \u001b[38;5;124mf\u001b[39m\u001b[38;5;124m\"\u001b[39m\u001b[38;5;124mSELECT * FROM questions WHERE theme_id = \u001b[39m\u001b[38;5;132;01m{\u001b[39;00mtheme_id\u001b[38;5;132;01m}\u001b[39;00m\u001b[38;5;124m AND questions_id NOT IN (\u001b[39m\u001b[38;5;132;01m{\u001b[39;00m\u001b[38;5;124m'\u001b[39m\u001b[38;5;124m,\u001b[39m\u001b[38;5;124m'\u001b[39m\u001b[38;5;241m.\u001b[39mjoin(\u001b[38;5;28mmap\u001b[39m(\u001b[38;5;28mstr\u001b[39m,\u001b[38;5;250m \u001b[39mquestions_id))\u001b[38;5;132;01m}\u001b[39;00m\u001b[38;5;124m) ORDER BY RANDOM() LIMIT 1\u001b[39m\u001b[38;5;124m\"\u001b[39m,\n\u001b[1;32m     26\u001b[0m         questions_id\n\u001b[1;32m     27\u001b[0m     )\n\u001b[1;32m     28\u001b[0m     \u001b[38;5;28;01mreturn\u001b[39;00m question_data\n",
      "\u001b[0;31mUnboundLocalError\u001b[0m: local variable 'question_data' referenced before assignment"
     ]
    }
   ],
   "source": [
    "from model.Case import Case\n",
    "from model.Joueur import Joueur\n",
    "from model.Partie import Partie\n",
    "\n",
    "partie = Partie()\n",
    "joueur = Joueur(nom='nom', prenom='prenom', partie=partie)\n",
    "case = partie.plateau.cases[0][1]\n",
    "# Utilisez la méthode get_question en passant les questions_id de l'instance du joueur\n",
    "questions_id = joueur.questions_id\n",
    "question = case.get_question(questions_id)\n",
    "reponse = joueur.get_answer()"
   ]
  }
 ],
 "metadata": {
  "kernelspec": {
   "display_name": ".venv",
   "language": "python",
   "name": "python3"
  },
  "language_info": {
   "codemirror_mode": {
    "name": "ipython",
    "version": 3
   },
   "file_extension": ".py",
   "mimetype": "text/x-python",
   "name": "python",
   "nbconvert_exporter": "python",
   "pygments_lexer": "ipython3",
   "version": "3.10.12"
  }
 },
 "nbformat": 4,
 "nbformat_minor": 2
}
